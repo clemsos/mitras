{
 "metadata": {
  "name": ""
 },
 "nbformat": 3,
 "nbformat_minor": 0,
 "worksheets": [
  {
   "cells": [
    {
     "cell_type": "code",
     "collapsed": false,
     "input": [
      "#!/usr/bin/env python\n",
      "# -*- coding: utf-8 -*-\n",
      "import elasticsearch\n",
      "import unicodedata\n",
      "import csv\n",
      "\n",
      "es = elasticsearch.Elasticsearch([\"localhost:9200\"])"
     ],
     "language": "python",
     "metadata": {},
     "outputs": []
    },
    {
     "cell_type": "markdown",
     "metadata": {},
     "source": [
      "Setup your variables"
     ]
    },
    {
     "cell_type": "code",
     "collapsed": false,
     "input": [
      "index_name=\"weiboscope\"\n",
      "meme_keywords=\"\u675c\u752b\u5f88\u5fd9\"\n",
      "csv_file=\"\u675c\u752b\u5f88\u5fd9.csv\""
     ],
     "language": "python",
     "metadata": {},
     "outputs": []
    },
    {
     "cell_type": "markdown",
     "metadata": {},
     "source": [
      "Launch  the request"
     ]
    },
    {
     "cell_type": "code",
     "collapsed": false,
     "input": [
      "res = es.search(index=index_name, body={\"query\": {\"match\": { \"text\" : \"'\u675c\u752b\u5f88\u5fd9'\" }}})\n",
      "data_size=res['hits']['total']\n",
      "print(\"Total %d Hits\" % data_size)\n",
      "\n",
      "res2 = es.search(index=index_name, body={\"query\": {\"match\": { \"text\" : \"'\u675c\u752b\u5f88\u5fd9'\" }}}, size=10)\n",
      "results=res2['hits']['hits']\n",
      "print(\"%d Hits Retreived\" % len(results))"
     ],
     "language": "python",
     "metadata": {},
     "outputs": [
      {
       "output_type": "stream",
       "stream": "stdout",
       "text": [
        "Total 705362 Hits\n",
        "10 Hits Retreived"
       ]
      },
      {
       "output_type": "stream",
       "stream": "stdout",
       "text": [
        "\n"
       ]
      }
     ],
     "prompt_number": 25
    },
    {
     "cell_type": "code",
     "collapsed": false,
     "input": [
      "# get headers\n",
      "headers=[value for value in sample[\"_source\"]]"
     ],
     "language": "python",
     "metadata": {},
     "outputs": [],
     "prompt_number": 26
    },
    {
     "cell_type": "code",
     "collapsed": false,
     "input": [
      "# then open a csv file, and loop through the results, writing to the csv\n",
      "with open(csv_file, 'wb') as csvfile: \n",
      "    filewriter = csv.writer(csvfile)\n",
      "    # create column header row\n",
      "    filewriter.writerow(headers)\n",
      "    for sample in results: \n",
      "        row=[]\n",
      "        for id in sample[\"_source\"]:\n",
      "            if type(sample[\"_source\"][id]) == unicode : data = sample[\"_source\"][id].encode(\"utf-8\") \n",
      "            else : data = sample[\"_source\"][id] \n",
      "            row.append(data)\n",
      "\n",
      "        filewriter.writerow(row)\n",
      "\n",
      "print \"Done. Data saved in %s\"%csv_file"
     ],
     "language": "python",
     "metadata": {},
     "outputs": [
      {
       "output_type": "stream",
       "stream": "stdout",
       "text": [
        "Done. Data saved in \u675c\u752b\u5f88\u5fd9.csv\n"
       ]
      }
     ],
     "prompt_number": 50
    },
    {
     "cell_type": "code",
     "collapsed": false,
     "input": [],
     "language": "python",
     "metadata": {},
     "outputs": []
    }
   ],
   "metadata": {}
  }
 ]
}