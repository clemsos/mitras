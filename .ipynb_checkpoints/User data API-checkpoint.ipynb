{
 "metadata": {
  "name": ""
 },
 "nbformat": 3,
 "nbformat_minor": 0,
 "worksheets": [
  {
   "cells": [
    {
     "cell_type": "heading",
     "level": 1,
     "metadata": {},
     "source": [
      "Api to fetch user data"
     ]
    },
    {
     "cell_type": "code",
     "collapsed": false,
     "input": [
      "from lib.users import UserAPI\n",
      "import csv\n",
      "\n",
      "api=UserAPI()\n",
      "\n",
      "userdata_file=\"/home/clemsos/Dev/mitras/lib/cities/usersample.csv\"\n",
      "# number of lines :\u00a014,388,386 users\n",
      "\n",
      "with open(userdata_file, 'rb') as csvfile:\n",
      "    \n",
      "    user_data=csv.reader(csvfile)\n",
      "    csvfile.next() #skip csv header\n",
      "    \n",
      "    for user in user_data:\n",
      "        province_code= api.get_province(user[0])\n",
      "        print api.provinces[province_code]"
     ],
     "language": "python",
     "metadata": {},
     "outputs": [
      {
       "ename": "NameError",
       "evalue": "name 'csv' is not defined",
       "output_type": "pyerr",
       "traceback": [
        "\u001b[1;31m---------------------------------------------------------------------------\u001b[0m\n\u001b[1;31mNameError\u001b[0m                                 Traceback (most recent call last)",
        "\u001b[1;32m<ipython-input-1-89e8df7a3bfb>\u001b[0m in \u001b[0;36m<module>\u001b[1;34m()\u001b[0m\n\u001b[0;32m      8\u001b[0m \u001b[1;32mwith\u001b[0m \u001b[0mopen\u001b[0m\u001b[1;33m(\u001b[0m\u001b[0muserdata_file\u001b[0m\u001b[1;33m,\u001b[0m \u001b[1;34m'rb'\u001b[0m\u001b[1;33m)\u001b[0m \u001b[1;32mas\u001b[0m \u001b[0mcsvfile\u001b[0m\u001b[1;33m:\u001b[0m\u001b[1;33m\u001b[0m\u001b[0m\n\u001b[0;32m      9\u001b[0m \u001b[1;33m\u001b[0m\u001b[0m\n\u001b[1;32m---> 10\u001b[1;33m     \u001b[0muser_data\u001b[0m\u001b[1;33m=\u001b[0m\u001b[0mcsv\u001b[0m\u001b[1;33m.\u001b[0m\u001b[0mreader\u001b[0m\u001b[1;33m(\u001b[0m\u001b[0mcsvfile\u001b[0m\u001b[1;33m)\u001b[0m\u001b[1;33m\u001b[0m\u001b[0m\n\u001b[0m\u001b[0;32m     11\u001b[0m     \u001b[0mcsvfile\u001b[0m\u001b[1;33m.\u001b[0m\u001b[0mnext\u001b[0m\u001b[1;33m(\u001b[0m\u001b[1;33m)\u001b[0m \u001b[1;31m#skip csv header\u001b[0m\u001b[1;33m\u001b[0m\u001b[0m\n\u001b[0;32m     12\u001b[0m \u001b[1;33m\u001b[0m\u001b[0m\n",
        "\u001b[1;31mNameError\u001b[0m: name 'csv' is not defined"
       ]
      },
      {
       "output_type": "stream",
       "stream": "stdout",
       "text": [
        "User API instance\n",
        "\n",
        "Connecting to MongoDB... \n",
        "Connected successfully MongoDB at localhost:27017\n",
        "\n",
        "Total users in the db : 14388484\n",
        "------------\n"
       ]
      }
     ],
     "prompt_number": 1
    },
    {
     "cell_type": "heading",
     "level": 2,
     "metadata": {},
     "source": [
      "Store data from CSV into Mongo"
     ]
    },
    {
     "cell_type": "markdown",
     "metadata": {},
     "source": [
      "Fetch cities code from csv"
     ]
    },
    {
     "cell_type": "code",
     "collapsed": false,
     "input": [
      "import csv\n",
      "\n",
      "# fetch cities\n",
      "\n",
      "provinces_file=\"/home/clemsos/Dev/mitras/lib/cities/provinces.csv\"\n",
      "provinces={}\n",
      "\n",
      "with open(provinces_file, 'rb') as csvfile:\n",
      "    \n",
      "    provinces_data=csv.reader(csvfile)\n",
      "    \n",
      "    for row in provinces_data:\n",
      "        provinces[row[0]]=row[1]\n",
      "\n",
      "#\u00a0for index in provinces:\n",
      "#\u00a0    print  provinces[index]"
     ],
     "language": "python",
     "metadata": {},
     "outputs": [],
     "prompt_number": 23
    },
    {
     "cell_type": "markdown",
     "metadata": {},
     "source": [
      "Store users in mongo db"
     ]
    },
    {
     "cell_type": "code",
     "collapsed": false,
     "input": [
      "from models.user import User\n",
      "\n",
      "#\u00a0data_sample=\"/home/clemsos/Dev/mitras/data/datazip/others/userdata.csv\"\n",
      "userdata_file=\"/home/clemsos/Dev/mitras/lib/cities/usersample.csv\"\n",
      "# number of lines :\u00a014,388,386 users\n",
      "\n",
      "with open(userdata_file, 'rb') as csvfile:\n",
      "    \n",
      "    user_data=csv.reader(csvfile)\n",
      "    csvfile.next() #skip csv header\n",
      "    \n",
      "    for row in user_data:\n",
      "        # create Tweet object\n",
      "        u=User()\n",
      "            \n",
      "        # print row[0],row[1],row[2],row[3]\n",
      "        u.uid=row[0]\n",
      "        u.province=provinces[row[1]]\n",
      "        u.gender=row[2]\n",
      "        u.verified=row[3]\n",
      "        \n",
      "        u.save() # store to mongo\n"
     ],
     "language": "python",
     "metadata": {},
     "outputs": [
      {
       "output_type": "stream",
       "stream": "stdout",
       "text": [
        "\n",
        "Connecting to MongoDB... \n",
        "Connected successfully MongoDB at localhost:27017\n",
        "\n"
       ]
      }
     ],
     "prompt_number": 22
    },
    {
     "cell_type": "heading",
     "level": 3,
     "metadata": {},
     "source": [
      "Fetch users from Mongo DB"
     ]
    },
    {
     "cell_type": "code",
     "collapsed": false,
     "input": [
      "from lib.mongo import MongoDB\n",
      "\n",
      "# Connect to Mongo\n",
      "db=MongoDB(\"tweets\").db[\"weibousers\"]\n",
      "\n",
      "print \"Total users in the db : %d\"%db.count()\n",
      "\n",
      "def get_user(_uid):\n",
      "    user=db.find_one({\"uid\":_uid}) #.limit(c)\n",
      "    return user\n",
      "\n",
      "def get_province(_uid):\n",
      "    user=db.find_one({\"uid\":_uid}) #.limit(c)\n",
      "    return user[\"province\"]\n",
      "\n",
      "result = get_province(\"uHRWEYSX0\")\n",
      "print result"
     ],
     "language": "python",
     "metadata": {},
     "outputs": [
      {
       "output_type": "stream",
       "stream": "stdout",
       "text": [
        "\n",
        "Connecting to MongoDB... \n",
        "Connected successfully MongoDB at localhost:27017\n",
        "\n",
        "Total users in the db : 198\n",
        "Gu\u01cengd\u014dng \u5e7f\u4e1c\n"
       ]
      }
     ],
     "prompt_number": 29
    },
    {
     "cell_type": "heading",
     "level": 2,
     "metadata": {},
     "source": [
      "Use API to fetch users"
     ]
    }
   ],
   "metadata": {}
  }
 ]
}