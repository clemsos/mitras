{
 "metadata": {
  "name": ""
 },
 "nbformat": 3,
 "nbformat_minor": 0,
 "worksheets": [
  {
   "cells": [
    {
     "cell_type": "code",
     "collapsed": false,
     "input": [
      "import csv\n",
      "from collections import Counter\n",
      "from lib.users import UserAPI\n",
      "\n",
      "meme_title=\"Meme example\"\n",
      "meme_desc=\"An example from a random sample\" \n",
      "tweets_file=\"/home/clemsos/Dev/mitras/data/sampleweibo.csv\"\n",
      "#tweets_file=\"/home/clemsos/Dev/mitras/lib/cities/usersample.csv\""
     ],
     "language": "python",
     "metadata": {},
     "outputs": [],
     "prompt_number": 7
    },
    {
     "cell_type": "code",
     "collapsed": false,
     "input": [
      "api=UserAPI()\n",
      "\n",
      "user_provinces=[]\n",
      "with open(tweets_file, 'rb') as csvfile:\n",
      "    \n",
      "    weibo_data=csv.reader(csvfile)\n",
      "    csvfile.next() #skip csv header\n",
      "    \n",
      "    for tweet in weibo_data:\n",
      "        # print tweet[2]\n",
      "        province_code= api.get_province(tweet[2])\n",
      "        user_provinces.append(api.provinces[province_code])\n",
      "       \n",
      "\n",
      "province_count=Counter(user_provinces)\n",
      "print province_count.most_common()\n",
      "for p in province_count.most_common():\n",
      "    print p[0],p[1]\n"
     ],
     "language": "python",
     "metadata": {},
     "outputs": [
      {
       "output_type": "stream",
       "stream": "stdout",
       "text": [
        "User API instance\n",
        "\n",
        "Connecting to MongoDB... \n",
        "Connected successfully MongoDB at localhost:27017\n",
        "\n",
        "Total users in the db : 14388484\n",
        "------------\n",
        "[('Xiangang', 53), ('Guangdong', 24), ('Beijing', 10), ('Shanghai', 6), ('Taiwan', 6), ('Qita', 5), ('Hunan', 2), ('Yunnan', 2), ('Zhejiang', 2), ('Haiwai', 2), ('Shaanxi', 2), ('Jiangsu', 1), ('Anhui', 1), ('Guangxi', 1), ('Tianjin', 1), ('Henan', 1), ('Liaoning', 1), ('Fujian', 1)]"
       ]
      },
      {
       "output_type": "stream",
       "stream": "stdout",
       "text": [
        "\n",
        "Xiangang 53\n",
        "Guangdong 24\n",
        "Beijing 10\n",
        "Shanghai 6\n",
        "Taiwan 6\n",
        "Qita 5\n",
        "Hunan 2\n",
        "Yunnan 2\n",
        "Zhejiang 2\n",
        "Haiwai 2\n",
        "Shaanxi 2\n",
        "Jiangsu 1\n",
        "Anhui 1\n",
        "Guangxi 1\n",
        "Tianjin 1\n",
        "Henan 1\n",
        "Liaoning 1\n",
        "Fujian 1\n"
       ]
      }
     ],
     "prompt_number": 2
    },
    {
     "cell_type": "code",
     "collapsed": false,
     "input": [
      "from IPython.display import display\n",
      "from lib.ipyD3 import *\n",
      "from pandas import *\n",
      "import numpy as np"
     ],
     "language": "python",
     "metadata": {},
     "outputs": [],
     "prompt_number": 5
    },
    {
     "cell_type": "code",
     "collapsed": false,
     "input": [
      "d3 = d3object(width=800,\n",
      "              height=500,\n",
      "              style='JFFigure',\n",
      "              number=1,\n",
      "              title=meme_title,\n",
      "              desc=meme_desc)"
     ],
     "language": "python",
     "metadata": {},
     "outputs": [],
     "prompt_number": 8
    },
    {
     "cell_type": "code",
     "collapsed": false,
     "input": [],
     "language": "python",
     "metadata": {},
     "outputs": []
    }
   ],
   "metadata": {}
  }
 ]
}