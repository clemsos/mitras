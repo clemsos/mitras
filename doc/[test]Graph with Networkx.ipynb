{
 "metadata": {
  "name": ""
 },
 "nbformat": 3,
 "nbformat_minor": 0,
 "worksheets": [
  {
   "cells": [
    {
     "cell_type": "code",
     "collapsed": false,
     "input": [
      "#!/usr/bin/env python\n",
      "# -*- coding: utf-8 -*-\n",
      "\n",
      "import csv\n",
      "import networkx as nx\n",
      "import pylab as plt"
     ],
     "language": "python",
     "metadata": {},
     "outputs": [],
     "prompt_number": 3
    },
    {
     "cell_type": "code",
     "collapsed": false,
     "input": [
      "# get meme_names\n",
      "meme_name=\"biaoge\"\n",
      "\n",
      "results_path=\"/home/clemsos/Dev/mitras/results/\"\n",
      "meme_path=results_path+\"/\"+meme_name"
     ],
     "language": "python",
     "metadata": {},
     "outputs": [],
     "prompt_number": 17
    },
    {
     "cell_type": "heading",
     "level": 3,
     "metadata": {},
     "source": [
      "Load Gephi edges data"
     ]
    },
    {
     "cell_type": "code",
     "collapsed": false,
     "input": [
      "# %pylab inline\n",
      "\n",
      "meme_graph_csv=meme_path+\"/\"+meme_name+\"_edges.csv\"\n",
      "\n",
      "with open(meme_graph_csv, 'rb') as edgefile:\n",
      "    edgefile.next() # skip headers\n",
      "    edgecsv=csv.reader(edgefile)\n",
      "    \n",
      "    edges=[ str(str(edge[0])+\",\"+str(edge[1])+\",\"+str(edge[2])) for edge in edgecsv]\n",
      "    print len(edges)\n",
      "    \n",
      "    G = nx.parse_edgelist(edges, nodetype=str, delimiter=\",\",data=(('time',str),))\n",
      "    \n",
      "    print len(G.edges())\n",
      "    print len(G.nodes())\n",
      "    # nx.read_edgelist(,delimiter=\",\")"
     ],
     "language": "python",
     "metadata": {},
     "outputs": [
      {
       "output_type": "stream",
       "stream": "stdout",
       "text": [
        "4471\n",
        "3751"
       ]
      },
      {
       "output_type": "stream",
       "stream": "stdout",
       "text": [
        "\n",
        "2545\n"
       ]
      }
     ],
     "prompt_number": 29
    },
    {
     "cell_type": "heading",
     "level": 3,
     "metadata": {},
     "source": [
      "Load d3 weighted edges data"
     ]
    },
    {
     "cell_type": "code",
     "collapsed": false,
     "input": [
      "meme_graph_csv=meme_path+\"/\"+meme_name+\"_d3graph.csv\"\n",
      "\n",
      "# directed graph\n",
      "# G = nx.DiGraph()\n",
      "\n",
      "with open(meme_graph_csv, 'rb') as edgefile:\n",
      "    edgefile.next() # skip headers\n",
      "    edgecsv=csv.reader(edgefile)\n",
      "    \n",
      "    #edges=[ str(str(edge[0])+\",\"+str(edge[1])+\",\"+str(edge[2])) for edge in edgecsv]\n",
      "    #print len(edges)\n",
      "    #G = nx.parse_edgelist(edges, nodetype=str, delimiter=\",\",data=(('time',str),))\n",
      "    \n",
      "    G=nx.read_weighted_edgelist(edgefile, create_using=nx.DiGraph(), delimiter=\",\")\n",
      "    \n",
      "    print len(G.edges())\n",
      "    print len(G.nodes())\n",
      "\n",
      "# nx.draw(G)\n",
      "# nx.draw_spectral(G)"
     ],
     "language": "python",
     "metadata": {},
     "outputs": [
      {
       "output_type": "stream",
       "stream": "stdout",
       "text": [
        "233\n",
        "237\n"
       ]
      }
     ],
     "prompt_number": 12
    },
    {
     "cell_type": "code",
     "collapsed": false,
     "input": [
      "N,K = G.order(), G.size()\n",
      "avg_deg = float(K)/N\n",
      "print \"Nodes: \", N\n",
      "print \"Edges: \", K\n",
      "print \"Average degree: \", avg_deg"
     ],
     "language": "python",
     "metadata": {},
     "outputs": [
      {
       "output_type": "stream",
       "stream": "stdout",
       "text": [
        "Nodes:  85\n",
        "Edges:  70\n",
        "Average degree:  0.823529411765\n"
       ]
      }
     ],
     "prompt_number": 43
    },
    {
     "cell_type": "code",
     "collapsed": false,
     "input": [
      "in_degrees = G.in_degree() # dictionary node:degree\n",
      "in_values = sorted(set(in_degrees.values())) \n",
      "in_hist = [in_degrees.values().count(x) for x in in_values]\n",
      "\n",
      "out_degrees = G.out_degree() # dictionary node:degree\n",
      "out_values = sorted(set(in_degrees.values())) \n",
      "out_hist = [in_degrees.values().count(x) for x in in_values]\n",
      "\n",
      "plt.figure()\n",
      "plt.plot(in_values,in_hist,'ro-') # in-degree\n",
      "plt.plot(out_values,out_hist,'bv-') # out-degree\n",
      "plt.legend(['In-degree','Out-degree'])\n",
      "plt.xlabel('Degree')\n",
      "plt.ylabel('Number of nodes')\n",
      "plt.title(meme_name+' network')\n",
      "#plt.savefig('hartford_degree_distribution.pdf')\n",
      "#plt.close()"
     ],
     "language": "python",
     "metadata": {},
     "outputs": [
      {
       "ename": "AttributeError",
       "evalue": "'Graph' object has no attribute 'in_degree'",
       "output_type": "pyerr",
       "traceback": [
        "\u001b[1;31m---------------------------------------------------------------------------\u001b[0m\n\u001b[1;31mAttributeError\u001b[0m                            Traceback (most recent call last)",
        "\u001b[1;32m<ipython-input-18-6d2ff5d59816>\u001b[0m in \u001b[0;36m<module>\u001b[1;34m()\u001b[0m\n\u001b[1;32m----> 1\u001b[1;33m \u001b[0min_degrees\u001b[0m \u001b[1;33m=\u001b[0m \u001b[0mG\u001b[0m\u001b[1;33m.\u001b[0m\u001b[0min_degree\u001b[0m\u001b[1;33m(\u001b[0m\u001b[1;33m)\u001b[0m \u001b[1;31m# dictionary node:degree\u001b[0m\u001b[1;33m\u001b[0m\u001b[0m\n\u001b[0m\u001b[0;32m      2\u001b[0m \u001b[0min_values\u001b[0m \u001b[1;33m=\u001b[0m \u001b[0msorted\u001b[0m\u001b[1;33m(\u001b[0m\u001b[0mset\u001b[0m\u001b[1;33m(\u001b[0m\u001b[0min_degrees\u001b[0m\u001b[1;33m.\u001b[0m\u001b[0mvalues\u001b[0m\u001b[1;33m(\u001b[0m\u001b[1;33m)\u001b[0m\u001b[1;33m)\u001b[0m\u001b[1;33m)\u001b[0m\u001b[1;33m\u001b[0m\u001b[0m\n\u001b[0;32m      3\u001b[0m \u001b[0min_hist\u001b[0m \u001b[1;33m=\u001b[0m \u001b[1;33m[\u001b[0m\u001b[0min_degrees\u001b[0m\u001b[1;33m.\u001b[0m\u001b[0mvalues\u001b[0m\u001b[1;33m(\u001b[0m\u001b[1;33m)\u001b[0m\u001b[1;33m.\u001b[0m\u001b[0mcount\u001b[0m\u001b[1;33m(\u001b[0m\u001b[0mx\u001b[0m\u001b[1;33m)\u001b[0m \u001b[1;32mfor\u001b[0m \u001b[0mx\u001b[0m \u001b[1;32min\u001b[0m \u001b[0min_values\u001b[0m\u001b[1;33m]\u001b[0m\u001b[1;33m\u001b[0m\u001b[0m\n\u001b[0;32m      4\u001b[0m \u001b[1;33m\u001b[0m\u001b[0m\n\u001b[0;32m      5\u001b[0m \u001b[0mplt\u001b[0m\u001b[1;33m.\u001b[0m\u001b[0mfigure\u001b[0m\u001b[1;33m(\u001b[0m\u001b[1;33m)\u001b[0m\u001b[1;33m\u001b[0m\u001b[0m\n",
        "\u001b[1;31mAttributeError\u001b[0m: 'Graph' object has no attribute 'in_degree'"
       ]
      }
     ],
     "prompt_number": 18
    },
    {
     "cell_type": "code",
     "collapsed": false,
     "input": [
      "G_ud = G.to_undirected()\n",
      "# Clustering coefficient of all nodes (in a dictionary)\n",
      "clust_coefficients = nx.clustering(G_ud)\n",
      "# Average clustering coefficient\n",
      "ccs = nx.clustering(G_ud)\n",
      "avg_clust = sum(ccs.values()) / len(ccs)\n",
      "print avg_clust"
     ],
     "language": "python",
     "metadata": {},
     "outputs": [
      {
       "output_type": "stream",
       "stream": "stdout",
       "text": [
        "{u'uVGJJRKDB': 0.0, u'uKPK5T5PS': 0.0, u'uK3R1EDJ1': 0.0, u'uLCMY22PK': 0.0, u'uRUHUYAX': 0.0, u'uHQYT3OAO': 0.0, u'uVEQD5MX3': 0.0, u'uB5N2ODWU': 0.0, u'uI43WRQGY': 0.0, u'uBIDXNTVP': 0.0, u'uTS23PWWL': 0.0, u'uVT4B0U20': 0.0, u'uKPKW5YCM': 0.0, u'uSIAL4MBT': 0.0, u'uVEQZY1N2': 0.0, u'uS5WYGVW4': 0.0, u'uFAG1C3O': 0.0, u'uP2ZKNHEX': 0.0, u'uZXKOY13H': 0.0, u'uJWIN1QKN': 0.0, u'uBK14MGUP': 0.0, u'uB4GXLJZH': 0.0, u'u02HXZUJK': 0.0, u'uKPKEQK2J': 0.0, u'uEMBQZTQC': 0.0, u'uFAGVDH3': 0.0, u'uB5NF4TLB': 0.0, u'u1CRN24CM': 1.0, u'uWWBH2A4W': 0.0, u'u351AVSWO': 0.0, u'uQSMA351V': 0.0, u'uGL2RIKX1': 0.0, u'uTZ5BQOYR': 0.0, u'uTS2DKHMG': 0.0, u'uPKFOANLF': 0.0, u'uR1W3KXBH': 0.0, u'uBIBYF2KZ': 0.3333333333333333, u'uVGJCR3IR': 0.0, u'u0VNXXKF1': 0.0, u'uLCMYA4GP': 0.0, u'uII5BNXYH': 0.0, u'uII5LYGGE': 0.0, u'uMLLDSR0L': 0.0, u'uRULR2YT': 0.0, u'u1O52QLAR': 0.0, u'uMLL1KZJC': 0.0, u'u1CRNXT4I': 0.0, u'uMMSL5GDJ': 0.0, u'uKBQFVJUT': 0.0, u'uK3X4JJE2': 0.0, u'uHQYOXKT3': 0.0, u'uPVDYBZB3': 0.0, u'uZQXIMVWY': 0.0, u'uPKFMOV0V': 0.0, u'uB4GUDVX5': 0.0, u'uUPCRA1WE': 0.0, u'uPVDSUTXM': 0.0, u'uP2ZOVACO': 0.0, u'uPVDYRJEN': 0.0, u'uS5WKZBT5': 0.0, u'uP2ZMQUZP': 0.0, u'uOQZ3FO1I': 0.0, u'uCBTS0OWI': 0.0, u'uOQZQMFSO': 0.0, u'uZQXIW4FL': 0.0, u'uTZ5DXNZB': 0.0, u'uTS2DMSCY': 0.0, u'u0YUP4D1O': 0.0, u'uATZOMZB2': 0.0, u'uVT4BZSNY': 0.0, u'u1CR2T0OF': 0.0, u'uTZ5JCZVP': 0.0, u'uB4H2KKQO': 0.0, u'uW0EQKD1M': 0.0, u'uQHCQVHRQ': 0.0, u'uZNJX5ZP5': 1.0, u'uZ322NE5R': 0.0, u'uVGJ1W22Z': 0.0, u'uW0EBULPM': 0.0, u'uK3RXEGSV': 0.0, u'u0VPMT21H': 0.0, u'u0YUPKQGI': 0.0, u'uHQYLSQD1': 0.0, u'uLCMT13JX': 0.0, u'uZD34MOXA': 0.0}\n",
        "0.0274509803922\n"
       ]
      }
     ],
     "prompt_number": 56
    },
    {
     "cell_type": "code",
     "collapsed": false,
     "input": [
      "G_components = nx.connected_component_subgraphs(G.to_undirected())\n",
      "G_mc = G_components[0]\n",
      "\n",
      "# Betweenness centrality\n",
      "bet_cen = nx.betweenness_centrality(G_mc)\n",
      "# Closeness centrality\n",
      "clo_cen = nx.closeness_centrality(G_mc)\n",
      "\n",
      "# Eigenvector centrality\n",
      "eig_cen = nx.eigenvector_centrality(G_mc)\n",
      "# print \"Eigenvector centrality : %f\"%eig_cen\n",
      "#print eig_cen"
     ],
     "language": "python",
     "metadata": {},
     "outputs": [
      {
       "output_type": "stream",
       "stream": "stdout",
       "text": [
        "{u'uPKFMOV0V': 0.1945428742922252, u'uVGJJRKDB': 0.1945428742922252, u'uVT4B0U20': 0.3242381238203753, u'uZ322NE5R': 0.1945428742922252, u'uK3R1EDJ1': 0.1945428742922252, u'uS5WKZBT5': 0.25939049905630024, u'uTZ5BQOYR': 0.1945428742922252, u'uP2ZOVACO': 0.1945428742922252, u'uZQXIW4FL': 0.7749223370335141}\n"
       ]
      }
     ],
     "prompt_number": 62
    },
    {
     "cell_type": "code",
     "collapsed": false,
     "input": [
      "def highest_centrality(cent_dict): \n",
      "     \"\"\"Returns a tuple (node,value) with the node \n",
      "    with largest value from Networkx centrality dictionary.\"\"\" \n",
      "     # Create ordered tuple of centrality data\n",
      "     cent_items=[(b,a) for (a,b) in cent_dict.iteritems()]\n",
      "     # Sort in descending order \n",
      "     cent_items.sort() \n",
      "     cent_items.reverse() \n",
      "     return tuple(reversed(cent_items[0]))"
     ],
     "language": "python",
     "metadata": {},
     "outputs": [],
     "prompt_number": 63
    },
    {
     "cell_type": "code",
     "collapsed": false,
     "input": [
      "def centrality_scatter(dict1,dict2,path=\"\",ylab=\"\",xlab=\"\",title=\"\",line=False):\n",
      " # Create figure and drawing axis\n",
      " fig = plt.figure(figsize=(7,7))\n",
      " ax1 = fig.add_subplot(111)\n",
      " # Create items and extract centralities\n",
      " items1 = sorted(dict1.items())\n",
      " items2 = sorted(dict2.items())\n",
      " xdata=[b for a,b in items1]\n",
      " ydata=[b for a,b in items2] \n",
      " \n",
      " # Add each actor to the plot by ID \n",
      " for p in xrange(len(items1)):\n",
      "    ax1.text(x=xdata[p], y=ydata[p],s=str(items1[p][0]), color=\"b\")\n",
      "\n",
      "    if line: \n",
      "        # use NumPy to calculate the best fit\n",
      "        slope, yint = plt.polyfit(xdata,ydata,1)\n",
      "        xline = plt.xticks()[0] \n",
      "        yline = map(lambda x: slope*x+yint,xline)\n",
      "        ax1.plot(xline,yline,ls='--',color='b')\n",
      "        # Set new x- and y-axis limits\n",
      "        plt.xlim((0.0,max(xdata)+(.15*max(xdata))))\n",
      "        plt.ylim((0.0,max(ydata)+(.15*max(ydata)))) \n",
      "        # Add labels and save\n",
      "        ax1.set_title(title)\n",
      "        ax1.set_xlabel(xlab) \n",
      "        ax1.set_ylabel(ylab) \n",
      "        # plt.savefig(path)"
     ],
     "language": "python",
     "metadata": {},
     "outputs": [],
     "prompt_number": 65
    },
    {
     "cell_type": "code",
     "collapsed": false,
     "input": [
      "def calculate_degree_centrality(graph): \n",
      "    g = graph \n",
      "    dc = nx.degree_centrality(g) \n",
      "    nx.set_node_attributes(g,degree_cent,dc) \n",
      "    degcent_sorted = sorted(dc.items(), key=itemgetter(1), reverse=True) \n",
      "    for key,value in degcent_sorted[0:10]: \n",
      "        print \"Highest degree Centrality:\", key, value \n",
      "        return graph, dc\n",
      "\n",
      "calculate_degree_centrality(G)"
     ],
     "language": "python",
     "metadata": {},
     "outputs": [
      {
       "ename": "NameError",
       "evalue": "global name 'degree_cent' is not defined",
       "output_type": "pyerr",
       "traceback": [
        "\u001b[1;31m---------------------------------------------------------------------------\u001b[0m\n\u001b[1;31mNameError\u001b[0m                                 Traceback (most recent call last)",
        "\u001b[1;32m<ipython-input-19-d6ee7554d7a5>\u001b[0m in \u001b[0;36m<module>\u001b[1;34m()\u001b[0m\n\u001b[0;32m      8\u001b[0m         \u001b[1;32mreturn\u001b[0m \u001b[0mgraph\u001b[0m\u001b[1;33m,\u001b[0m \u001b[0mdc\u001b[0m\u001b[1;33m\u001b[0m\u001b[0m\n\u001b[0;32m      9\u001b[0m \u001b[1;33m\u001b[0m\u001b[0m\n\u001b[1;32m---> 10\u001b[1;33m \u001b[0mcalculate_degree_centrality\u001b[0m\u001b[1;33m(\u001b[0m\u001b[0mG\u001b[0m\u001b[1;33m)\u001b[0m\u001b[1;33m\u001b[0m\u001b[0m\n\u001b[0m",
        "\u001b[1;32m<ipython-input-19-d6ee7554d7a5>\u001b[0m in \u001b[0;36mcalculate_degree_centrality\u001b[1;34m(graph)\u001b[0m\n\u001b[0;32m      2\u001b[0m     \u001b[0mg\u001b[0m \u001b[1;33m=\u001b[0m \u001b[0mgraph\u001b[0m\u001b[1;33m\u001b[0m\u001b[0m\n\u001b[0;32m      3\u001b[0m     \u001b[0mdc\u001b[0m \u001b[1;33m=\u001b[0m \u001b[0mnx\u001b[0m\u001b[1;33m.\u001b[0m\u001b[0mdegree_centrality\u001b[0m\u001b[1;33m(\u001b[0m\u001b[0mg\u001b[0m\u001b[1;33m)\u001b[0m\u001b[1;33m\u001b[0m\u001b[0m\n\u001b[1;32m----> 4\u001b[1;33m     \u001b[0mnx\u001b[0m\u001b[1;33m.\u001b[0m\u001b[0mset_node_attributes\u001b[0m\u001b[1;33m(\u001b[0m\u001b[0mg\u001b[0m\u001b[1;33m,\u001b[0m\u001b[0mdegree_cent\u001b[0m\u001b[1;33m,\u001b[0m\u001b[0mdc\u001b[0m\u001b[1;33m)\u001b[0m\u001b[1;33m\u001b[0m\u001b[0m\n\u001b[0m\u001b[0;32m      5\u001b[0m     \u001b[0mdegcent_sorted\u001b[0m \u001b[1;33m=\u001b[0m \u001b[0msorted\u001b[0m\u001b[1;33m(\u001b[0m\u001b[0mdc\u001b[0m\u001b[1;33m.\u001b[0m\u001b[0mitems\u001b[0m\u001b[1;33m(\u001b[0m\u001b[1;33m)\u001b[0m\u001b[1;33m,\u001b[0m \u001b[0mkey\u001b[0m\u001b[1;33m=\u001b[0m\u001b[0mitemgetter\u001b[0m\u001b[1;33m(\u001b[0m\u001b[1;36m1\u001b[0m\u001b[1;33m)\u001b[0m\u001b[1;33m,\u001b[0m \u001b[0mreverse\u001b[0m\u001b[1;33m=\u001b[0m\u001b[0mTrue\u001b[0m\u001b[1;33m)\u001b[0m\u001b[1;33m\u001b[0m\u001b[0m\n\u001b[0;32m      6\u001b[0m     \u001b[1;32mfor\u001b[0m \u001b[0mkey\u001b[0m\u001b[1;33m,\u001b[0m\u001b[0mvalue\u001b[0m \u001b[1;32min\u001b[0m \u001b[0mdegcent_sorted\u001b[0m\u001b[1;33m[\u001b[0m\u001b[1;36m0\u001b[0m\u001b[1;33m:\u001b[0m\u001b[1;36m10\u001b[0m\u001b[1;33m]\u001b[0m\u001b[1;33m:\u001b[0m\u001b[1;33m\u001b[0m\u001b[0m\n",
        "\u001b[1;31mNameError\u001b[0m: global name 'degree_cent' is not defined"
       ]
      }
     ],
     "prompt_number": 19
    },
    {
     "cell_type": "code",
     "collapsed": false,
     "input": [
      "nx.find_cliques(G.to_undirected())"
     ],
     "language": "python",
     "metadata": {},
     "outputs": [
      {
       "metadata": {},
       "output_type": "pyout",
       "prompt_number": 69,
       "text": [
        "<generator object find_cliques at 0x3911f50>"
       ]
      }
     ],
     "prompt_number": 69
    },
    {
     "cell_type": "code",
     "collapsed": false,
     "input": [
      "import numpy, matplotlib\n",
      "from scipy.cluster import hierarchy\n",
      "from scipy.spatial import distance\n",
      "\n",
      "g=G\n",
      "path_length=nx.all_pairs_shortest_path_length(g)\n",
      "n = len(g.nodes())\n",
      "distances=numpy.zeros((n,n))\n",
      "\n",
      "for u,p in path_length.iteritems():\n",
      "\t for v,d in p.iteritems():\n",
      "\t \t distances[int(u)-1][int(v)-1] = d\n",
      "sd = distance.squareform(distances)\n",
      "\n",
      "hier = hierarchy.average(sd)\t\t \n",
      "\n",
      "# draw dendogram\n",
      "hierarchy.dendrogram(hier)"
     ],
     "language": "python",
     "metadata": {},
     "outputs": [
      {
       "ename": "ValueError",
       "evalue": "invalid literal for int() with base 10: 'uZQXIW4FL'",
       "output_type": "pyerr",
       "traceback": [
        "\u001b[1;31m---------------------------------------------------------------------------\u001b[0m\n\u001b[1;31mValueError\u001b[0m                                Traceback (most recent call last)",
        "\u001b[1;32m<ipython-input-73-c2006c1cf9a3>\u001b[0m in \u001b[0;36m<module>\u001b[1;34m()\u001b[0m\n\u001b[0;32m     13\u001b[0m \u001b[1;32mfor\u001b[0m \u001b[0mu\u001b[0m\u001b[1;33m,\u001b[0m\u001b[0mp\u001b[0m \u001b[1;32min\u001b[0m \u001b[0mpath_length\u001b[0m\u001b[1;33m.\u001b[0m\u001b[0miteritems\u001b[0m\u001b[1;33m(\u001b[0m\u001b[1;33m)\u001b[0m\u001b[1;33m:\u001b[0m\u001b[1;33m\u001b[0m\u001b[0m\n\u001b[0;32m     14\u001b[0m          \u001b[1;32mfor\u001b[0m \u001b[0mv\u001b[0m\u001b[1;33m,\u001b[0m\u001b[0md\u001b[0m \u001b[1;32min\u001b[0m \u001b[0mp\u001b[0m\u001b[1;33m.\u001b[0m\u001b[0miteritems\u001b[0m\u001b[1;33m(\u001b[0m\u001b[1;33m)\u001b[0m\u001b[1;33m:\u001b[0m\u001b[1;33m\u001b[0m\u001b[0m\n\u001b[1;32m---> 15\u001b[1;33m                  \u001b[0mdistances\u001b[0m\u001b[1;33m[\u001b[0m\u001b[0mint\u001b[0m\u001b[1;33m(\u001b[0m\u001b[0mu\u001b[0m\u001b[1;33m)\u001b[0m\u001b[1;33m-\u001b[0m\u001b[1;36m1\u001b[0m\u001b[1;33m]\u001b[0m\u001b[1;33m[\u001b[0m\u001b[0mint\u001b[0m\u001b[1;33m(\u001b[0m\u001b[0mv\u001b[0m\u001b[1;33m)\u001b[0m\u001b[1;33m-\u001b[0m\u001b[1;36m1\u001b[0m\u001b[1;33m]\u001b[0m \u001b[1;33m=\u001b[0m \u001b[0md\u001b[0m\u001b[1;33m\u001b[0m\u001b[0m\n\u001b[0m\u001b[0;32m     16\u001b[0m \u001b[0msd\u001b[0m \u001b[1;33m=\u001b[0m \u001b[0mdistance\u001b[0m\u001b[1;33m.\u001b[0m\u001b[0msquareform\u001b[0m\u001b[1;33m(\u001b[0m\u001b[0mdistances\u001b[0m\u001b[1;33m)\u001b[0m\u001b[1;33m\u001b[0m\u001b[0m\n",
        "\u001b[1;31mValueError\u001b[0m: invalid literal for int() with base 10: 'uZQXIW4FL'"
       ]
      },
      {
       "output_type": "stream",
       "stream": "stdout",
       "text": [
        "{u'uZQXIW4FL': {u'uVGJJRKDB': 1, u'uK3R1EDJ1': 1, u'uP2ZOVACO': 1, u'uPKFMOV0V': 1, u'uTZ5BQOYR': 1, u'uZ322NE5R': 1, u'uZQXIW4FL': 0}, u'uVGJJRKDB': {u'uVGJJRKDB': 0}, u'uKPK5T5PS': {u'uKPK5T5PS': 0}, u'uK3R1EDJ1': {u'uK3R1EDJ1': 0}, u'uLCMY22PK': {u'uP2ZKNHEX': 1, u'uLCMY22PK': 0}, u'uRUHUYAX': {u'uRUHUYAX': 0}, u'uHQYT3OAO': {u'uHQYT3OAO': 0, u'uP2ZMQUZP': 1, u'uVEQD5MX3': 1}, u'uVEQD5MX3': {u'uVEQD5MX3': 0}, u'uB5N2ODWU': {u'uB5N2ODWU': 0, u'uKPKEQK2J': 1}, u'uI43WRQGY': {u'uI43WRQGY': 0}, u'uBIDXNTVP': {u'uBIDXNTVP': 0}, u'uTS23PWWL': {u'uTS23PWWL': 0, u'uVEQZY1N2': 1}, u'uVT4B0U20': {u'uVGJJRKDB': 2, u'uK3R1EDJ1': 2, u'uP2ZOVACO': 2, u'uPKFMOV0V': 2, u'uTZ5BQOYR': 2, u'uVT4B0U20': 0, u'uZ322NE5R': 2, u'uZQXIW4FL': 1}, u'uZ322NE5R': {u'uZ322NE5R': 0}, u'uKPKW5YCM': {u'uKPKW5YCM': 0}, u'uSIAL4MBT': {u'uSIAL4MBT': 0}, u'uMLL1KZJC': {u'uMLL1KZJC': 0}, u'uP2ZKNHEX': {u'uP2ZKNHEX': 0}, u'uFAG1C3O': {u'uFAG1C3O': 0, u'uTS2DMSCY': 1}, u'uOQZQMFSO': {u'uOQZQMFSO': 0}, u'uS5WYGVW4': {u'uS5WYGVW4': 0}, u'uZXKOY13H': {u'uZXKOY13H': 0}, u'uJWIN1QKN': {u'uW0EQKD1M': 1, u'uJWIN1QKN': 0}, u'uB4GXLJZH': {u'uB4GXLJZH': 0}, u'u02HXZUJK': {u'u02HXZUJK': 0}, u'uKPKEQK2J': {u'uKPKEQK2J': 0}, u'uEMBQZTQC': {u'uVGJCR3IR': 1, u'uPVDSUTXM': 1, u'uEMBQZTQC': 0}, u'uFAGVDH3': {u'uFAGVDH3': 0, u'uJWIN1QKN': 1, u'uW0EQKD1M': 2}, u'uB5NF4TLB': {u'uB5NF4TLB': 0, u'uKPKW5YCM': 1}, u'u1CRN24CM': {u'u1CRN24CM': 0}, u'u351AVSWO': {u'u351AVSWO': 0}, u'uQSMA351V': {u'uQSMA351V': 0}, u'uGL2RIKX1': {u'uGL2RIKX1': 0, u'uHQYT3OAO': 1, u'uVEQD5MX3': 2, u'uP2ZMQUZP': 2}, u'uTZ5BQOYR': {u'uTZ5BQOYR': 0}, u'uTS2DKHMG': {u'uTS2DKHMG': 0, u'uATZOMZB2': 1}, u'uPKFOANLF': {u'uPKFOANLF': 0}, u'uR1W3KXBH': {u'uR1W3KXBH': 0}, u'uBIBYF2KZ': {u'u1CRN24CM': 1, u'uBIBYF2KZ': 0}, u'uVGJCR3IR': {u'uVGJCR3IR': 0}, u'uZD34MOXA': {u'uZD34MOXA': 0}, u'u0VNXXKF1': {u'u0VNXXKF1': 0}, u'uII5BNXYH': {u'uII5BNXYH': 0}, u'uII5LYGGE': {u'uVEQZY1N2': 1, u'uII5LYGGE': 0}, u'uMLLDSR0L': {u'uMLLDSR0L': 0}, u'uRULR2YT': {u'uRULR2YT': 0}, u'u1O52QLAR': {u'u1O52QLAR': 0}, u'uVEQZY1N2': {u'uVEQZY1N2': 0}, u'u1CRNXT4I': {u'u1CRNXT4I': 0}, u'uMMSL5GDJ': {u'uMMSL5GDJ': 0, u'uZD34MOXA': 1}, u'uKBQFVJUT': {u'uVGJCR3IR': 2, u'uKBQFVJUT': 0, u'uPVDSUTXM': 2, u'uEMBQZTQC': 1}, u'uK3X4JJE2': {u'uLCMYA4GP': 1, u'uK3X4JJE2': 0}, u'uHQYOXKT3': {u'uHQYOXKT3': 0, u'uK3RXEGSV': 1}, u'uPVDYBZB3': {u'uPVDYBZB3': 0}, u'uZQXIMVWY': {u'uZQXIMVWY': 0}, u'uPKFMOV0V': {u'uPKFMOV0V': 0}, u'uB4GUDVX5': {u'uB4GUDVX5': 0, u'uI43WRQGY': 1}, u'uUPCRA1WE': {u'uSIAL4MBT': 1, u'uUPCRA1WE': 0}, u'uPVDSUTXM': {u'uPVDSUTXM': 0}, u'uP2ZOVACO': {u'uP2ZOVACO': 0}, u'uPVDYRJEN': {u'u1CRN24CM': 2, u'uPVDYRJEN': 0, u'uBIBYF2KZ': 1}, u'uS5WKZBT5': {u'uVGJJRKDB': 2, u'uK3R1EDJ1': 2, u'uP2ZOVACO': 2, u'uPKFMOV0V': 2, u'uTZ5BQOYR': 2, u'uZ322NE5R': 2, u'uS5WKZBT5': 0, u'uZQXIW4FL': 1}, u'uP2ZMQUZP': {u'uP2ZMQUZP': 0}, u'uOQZ3FO1I': {u'uOQZ3FO1I': 0}, u'uCBTS0OWI': {u'uPVDYBZB3': 1, u'uCBTS0OWI': 0}, u'uWWBH2A4W': {u'uWWBH2A4W': 0}, u'uBK14MGUP': {u'uOQZQMFSO': 1, u'uBK14MGUP': 0}, u'uTZ5DXNZB': {u'uMLLDSR0L': 1, u'uTZ5DXNZB': 0, u'uRULR2YT': 1}, u'uVGJ1W22Z': {u'uVGJ1W22Z': 0}, u'u0YUP4D1O': {u'u1CRNXT4I': 1, u'u0YUP4D1O': 0}, u'uTS2DMSCY': {u'uTS2DMSCY': 0}, u'uATZOMZB2': {u'uATZOMZB2': 0}, u'u1CR2T0OF': {u'uQSMA351V': 1, u'u1CR2T0OF': 0}, u'u0VPMT21H': {u'u0VPMT21H': 0, u'uBIDXNTVP': 1}, u'uVT4BZSNY': {u'uVT4BZSNY': 0}, u'uTZ5JCZVP': {u'uVT4BZSNY': 1, u'uTZ5JCZVP': 0}, u'uB4H2KKQO': {u'uB4H2KKQO': 0}, u'uW0EQKD1M': {u'uW0EQKD1M': 0}, u'uZNJX5ZP5': {u'uZNJX5ZP5': 0, u'u1CRN24CM': 1, u'uBIBYF2KZ': 1}, u'uHQYLSQD1': {u'uHQYLSQD1': 0, u'uMLL1KZJC': 1}, u'uLCMYA4GP': {u'uLCMYA4GP': 0}, u'uW0EBULPM': {u'uW0EBULPM': 0}, u'uK3RXEGSV': {u'uK3RXEGSV': 0}, u'uQHCQVHRQ': {u'uQHCQVHRQ': 0}, u'uLCMT13JX': {u'uLCMT13JX': 0, u'uZXKOY13H': 1}, u'u0YUPKQGI': {u'u351AVSWO': 1, u'u0YUPKQGI': 0}}\n"
       ]
      }
     ],
     "prompt_number": 73
    },
    {
     "cell_type": "code",
     "collapsed": false,
     "input": [
      "%pylab inline\n",
      "import community\n",
      "\n",
      "G=G.to_undirected()\n",
      "partition = community.best_partition(G)\n",
      "# print partition\n",
      "\n",
      "size = float(len(set(partition.values())))\n",
      "pos = nx.spring_layout(G)\n",
      "\n",
      "count = 0.\n",
      "for com in set(partition.values()) :\n",
      "    count = count + 1.\n",
      "    list_nodes = [nodes for nodes in partition.keys()\n",
      "                                if partition[nodes] == com]\n",
      "    nx.draw_networkx_nodes(G, pos, list_nodes, node_size = 20,\n",
      "                                node_color = str(count / size))\n",
      "\n",
      "\n",
      "# nx.draw_networkx_edges(G,pos, alpha=0.5)\n",
      "nx.draw\n",
      "plt.show()"
     ],
     "language": "python",
     "metadata": {},
     "outputs": [
      {
       "output_type": "stream",
       "stream": "stdout",
       "text": [
        "Populating the interactive namespace from numpy and matplotlib\n"
       ]
      },
      {
       "output_type": "stream",
       "stream": "stderr",
       "text": [
        "WARNING: pylab import has clobbered these variables: ['size', 'plt']\n",
        "`%pylab --no-import-all` prevents importing * from pylab and numpy\n"
       ]
      },
      {
       "metadata": {},
       "output_type": "display_data",
       "png": "[encoded data removed]",
       "text": [
        "<matplotlib.figure.Figure at 0x3c0c550>"
       ]
      }
     ],
     "prompt_number": 16
    },
    {
     "cell_type": "code",
     "collapsed": false,
     "input": [
      "# utility function to let you print the node + various attributes in a csv format \n",
      "def write_node_attributes(graph, attributes):\n",
      "    if type(attributes) is not list: attributes = [attributes] \n",
      "        for node in graph.nodes(): \n",
      "            vals = [str(dict[node]) for dict in [nx.get_node_attributes(graph,x) for x in attributes]] \n",
      "            print node, \",\", \",\".join(vals)"
     ],
     "language": "python",
     "metadata": {},
     "outputs": []
    }
   ],
   "metadata": {}
  }
 ]
}