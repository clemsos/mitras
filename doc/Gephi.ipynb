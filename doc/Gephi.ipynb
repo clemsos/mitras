{
 "metadata": {
  "name": ""
 },
 "nbformat": 3,
 "nbformat_minor": 0,
 "worksheets": [
  {
   "cells": [
    {
     "cell_type": "markdown",
     "metadata": {},
     "source": [
      "# Gephi Methodo step by step"
     ]
    },
    {
     "cell_type": "markdown",
     "metadata": {},
     "source": [
      "\n",
      "\n",
      "## Import Data\n",
      "\n",
      "* import edges from csv spreadsheet \n",
      "* \"create missing nodes\" checked"
     ]
    },
    {
     "cell_type": "markdown",
     "metadata": {},
     "source": [
      "## Layout \n",
      "\n",
      "Force-based algorithm\n",
      "\n",
      "* Force Atlas 2\n",
      "\u201c[We] tweak the repulsion [\u201cmagnet\u201d] force so that poorly connected nodes and very connected nodes repulse less\u201d (Jacomy et al. 2012)\n",
      "\n",
      "* precent overlap\n",
      "* scaling 8.0\n"
     ]
    },
    {
     "cell_type": "markdown",
     "metadata": {},
     "source": [
      "## Visualizing attributes"
     ]
    },
    {
     "cell_type": "markdown",
     "metadata": {},
     "source": [
      "### Modularity\n",
      "\n",
      "* Run ```Statistics > Network Overview > Modularity```\n",
      "* Select ```Partition > Nodes``` and hit ```Refresh```\n",
      "* Select ```Modularity Class``` and hit ```Apply```\n"
     ]
    },
    {
     "cell_type": "markdown",
     "metadata": {},
     "source": [
      "### Betweenness Centrality\n",
      "\n",
      "* Run ```Statistics > Edge Overview > Average Path Length```\n",
      "* Select ```Ranking > Nodes``` and hit the ```Size``` icon (little gem)\n",
      "* Select ```Betweenness Centrality``` and hit ```Apply```"
     ]
    },
    {
     "cell_type": "markdown",
     "metadata": {},
     "source": [
      "## Filters\n",
      "\n",
      "Hide the nodes with less than 3 interactions :\n",
      "\n",
      "* Select ```Filter > Topology > Degree Range```\n",
      "* Drag and drop the Degree Range filter in the Queries field behind\n",
      "* Set range start to 3"
     ]
    },
    {
     "cell_type": "markdown",
     "metadata": {},
     "source": [
      "### Rendering \n",
      "\n",
      "* "
     ]
    }
   ],
   "metadata": {}
  }
 ]
}