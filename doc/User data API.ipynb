{
 "metadata": {
  "name": ""
 },
 "nbformat": 3,
 "nbformat_minor": 0,
 "worksheets": [
  {
   "cells": [
    {
     "cell_type": "heading",
     "level": 1,
     "metadata": {},
     "source": [
      "Api to fetch user data"
     ]
    },
    {
     "cell_type": "code",
     "collapsed": false,
     "input": [
      "from lib.users import UserAPI\n",
      "import csv\n",
      "\n",
      "api=UserAPI()\n",
      "\n",
      "userdata_file=\"/home/clemsos/Dev/mitras/lib/cities/usersample.csv\"\n",
      "# number of lines :\u00a014,388,386 users\n",
      "\n",
      "with open(userdata_file, 'rb') as csvfile:\n",
      "    \n",
      "    user_data=csv.reader(csvfile)\n",
      "    csvfile.next() #skip csv header\n",
      "    \n",
      "    for user in user_data:\n",
      "        province_code= api.get_province(user[0])\n",
      "        print api.provinces[province_code]"
     ],
     "language": "python",
     "metadata": {},
     "outputs": [
      {
       "output_type": "stream",
       "stream": "stdout",
       "text": [
        "User API instance\n",
        "\n",
        "Connecting to MongoDB... \n",
        "Connected successfully MongoDB at localhost:27017\n",
        "\n",
        "Total users in the db : 14388484\n",
        "------------\n",
        "B\u011bij\u012bng \u5317\u4eac\n",
        "B\u011bij\u012bng \u5317\u4eac\n",
        "B\u011bij\u012bng \u5317\u4eac\n",
        "B\u011bij\u012bng \u5317\u4eac\n",
        "B\u011bij\u012bng \u5317\u4eac\n",
        "B\u011bij\u012bng \u5317\u4eac\n",
        "B\u011bij\u012bng \u5317\u4eac\n",
        "B\u011bij\u012bng \u5317\u4eac\n",
        "H\u00fan\u00e1n \u6e56\u5357\n",
        "B\u011bij\u012bng \u5317\u4eac\n",
        "Zh\u00e8ji\u0101ng \u6d59\u6c5f\n",
        "Zh\u00e8ji\u0101ng \u6d59\u6c5f\n",
        "B\u011bij\u012bng \u5317\u4eac\n",
        "B\u011bij\u012bng \u5317\u4eac\n",
        "B\u011bij\u012bng \u5317\u4eac\n",
        "Gu\u01cengd\u014dng \u5e7f\u4e1c\n",
        "B\u011bij\u012bng \u5317\u4eac\n",
        "H\u01ceiw\u00e0i \u6d77\u5916\n",
        "Gu\u01cengd\u014dng \u5e7f\u4e1c\n",
        "Gu\u01cengd\u014dng \u5e7f\u4e1c\n",
        "Gu\u01cengd\u014dng \u5e7f\u4e1c\n",
        "Gu\u01cengd\u014dng \u5e7f\u4e1c\n",
        "H\u00fan\u00e1n \u6e56\u5357\n",
        "Gu\u01cengd\u014dng \u5e7f\u4e1c\n",
        "Gu\u01cengd\u014dng \u5e7f\u4e1c\n",
        "Gu\u01cengd\u014dng \u5e7f\u4e1c\n",
        "Gu\u01cengd\u014dng \u5e7f\u4e1c\n",
        "B\u011bij\u012bng \u5317\u4eac\n",
        "B\u011bij\u012bng \u5317\u4eac\n",
        "Q\u00edt\u0101 \u5176\u4ed6\n",
        "Sh\u0101nd\u014dng \u5c71\u4e1c\n",
        "B\u011bij\u012bng \u5317\u4eac\n",
        "B\u011bij\u012bng \u5317\u4eac\n",
        "H\u0113il\u00f3ngji\u0101ng \u9ed1\u9f99\u6c5f\n",
        "Sh\u00e0ngh\u01cei \u4e0a\u6d77\n",
        "Ji\u0101ngs\u016b \u6c5f\u82cf\n",
        "B\u011bij\u012bng \u5317\u4eac\n",
        "Q\u00edt\u0101 \u5176\u4ed6\n",
        "Gu\u01cengd\u014dng \u5e7f\u4e1c\n",
        "Sh\u01cenx\u012b \u9655\u897f\n",
        "Gu\u01cengd\u014dng \u5e7f\u4e1c\n",
        "Gu\u00eczh\u014du \u8d35\u5dde\n",
        "B\u011bij\u012bng \u5317\u4eac\n",
        "\u0100nhu\u012b \u5b89\u5fbd\n",
        "Gu\u01cengx\u012b \u5e7f\u897f\n",
        "B\u011bij\u012bng \u5317\u4eac\n",
        "B\u011bij\u012bng \u5317\u4eac\n",
        "H\u00fan\u00e1n \u6e56\u5357\n",
        "Sh\u01cenx\u012b \u9655\u897f\n",
        "H\u00e9b\u011bi \u6cb3\u5317\n",
        "Gu\u01cengd\u014dng \u5e7f\u4e1c\n",
        "Ji\u0101ngs\u016b \u6c5f\u82cf\n",
        "Sh\u0101nx\u012b \u5c71\u897f\n",
        "H\u00e9n\u00e1n \u6cb3\u5357\n",
        "F\u00faji\u00e0n \u798f\u5efa\n",
        "Ji\u0101ngs\u016b \u6c5f\u82cf\n",
        "Ji\u0101ngs\u016b \u6c5f\u82cf\n",
        "B\u011bij\u012bng \u5317\u4eac\n",
        "H\u00fab\u011bi \u6e56\u5317\n",
        "Ji\u0101ngs\u016b \u6c5f\u82cf\n",
        "B\u011bij\u012bng \u5317\u4eac\n",
        "H\u01ceiw\u00e0i \u6d77\u5916\n",
        "H\u0113il\u00f3ngji\u0101ng \u9ed1\u9f99\u6c5f\n",
        "Sh\u00e0ngh\u01cei \u4e0a\u6d77\n",
        "S\u00ecchu\u0101n \u56db\u5ddd\n",
        "S\u00ecchu\u0101n \u56db\u5ddd\n",
        "Ji\u0101ngs\u016b \u6c5f\u82cf\n",
        "Gu\u01cengd\u014dng \u5e7f\u4e1c\n",
        "T\u00e1iw\u0101n \u53f0\u6e7e\n",
        "B\u011bij\u012bng \u5317\u4eac\n",
        "Zh\u00e8ji\u0101ng \u6d59\u6c5f\n",
        "S\u00ecchu\u0101n \u56db\u5ddd\n",
        "Gu\u01cengd\u014dng \u5e7f\u4e1c\n",
        "Gu\u01cengd\u014dng \u5e7f\u4e1c\n",
        "B\u011bij\u012bng \u5317\u4eac\n",
        "Ch\u00f3ngq\u00ecng \u91cd\u5e86\n",
        "F\u00faji\u00e0n \u798f\u5efa\n",
        "Sh\u00e0ngh\u01cei \u4e0a\u6d77\n",
        "Zh\u00e8ji\u0101ng \u6d59\u6c5f\n",
        "Zh\u00e8ji\u0101ng \u6d59\u6c5f\n",
        "H\u01ceiw\u00e0i \u6d77\u5916\n",
        "B\u011bij\u012bng \u5317\u4eac\n",
        "B\u011bij\u012bng \u5317\u4eac\n",
        "Gu\u01cengd\u014dng \u5e7f\u4e1c\n",
        "Gu\u01cengx\u012b \u5e7f\u897f\n",
        "F\u00faji\u00e0n \u798f\u5efa\n",
        "Ch\u00f3ngq\u00ecng \u91cd\u5e86"
       ]
      },
      {
       "output_type": "stream",
       "stream": "stdout",
       "text": [
        "\n",
        "F\u00faji\u00e0n \u798f\u5efa\n",
        "B\u011bij\u012bng \u5317\u4eac\n",
        "Gu\u01cengd\u014dng \u5e7f\u4e1c\n",
        "Sh\u01cenx\u012b \u9655\u897f\n",
        "H\u00e9b\u011bi \u6cb3\u5317\n",
        "B\u011bij\u012bng \u5317\u4eac\n",
        "Ti\u0101nj\u012bn \u5929\u6d25\n",
        "B\u011bij\u012bng \u5317\u4eac\n",
        "Gu\u01cengd\u014dng \u5e7f\u4e1c\n",
        "Zh\u00e8ji\u0101ng \u6d59\u6c5f\n",
        "Zh\u00e8ji\u0101ng \u6d59\u6c5f\n",
        "F\u00faji\u00e0n \u798f\u5efa\n"
       ]
      }
     ],
     "prompt_number": 2
    },
    {
     "cell_type": "heading",
     "level": 2,
     "metadata": {},
     "source": [
      "Store data from CSV into Mongo"
     ]
    },
    {
     "cell_type": "markdown",
     "metadata": {},
     "source": [
      "Fetch cities code from csv"
     ]
    },
    {
     "cell_type": "code",
     "collapsed": false,
     "input": [
      "import csv\n",
      "\n",
      "# fetch cities\n",
      "\n",
      "provinces_file=\"/home/clemsos/Dev/mitras/lib/cities/provinces.csv\"\n",
      "provinces={}\n",
      "\n",
      "with open(provinces_file, 'rb') as csvfile:\n",
      "    \n",
      "    provinces_data=csv.reader(csvfile)\n",
      "    \n",
      "    for row in provinces_data:\n",
      "        provinces[row[0]]=row[1]\n",
      "\n",
      "#\u00a0for index in provinces:\n",
      "#\u00a0    print  provinces[index]"
     ],
     "language": "python",
     "metadata": {},
     "outputs": [],
     "prompt_number": 23
    },
    {
     "cell_type": "markdown",
     "metadata": {},
     "source": [
      "Store users in mongo db"
     ]
    },
    {
     "cell_type": "code",
     "collapsed": false,
     "input": [
      "from models.user import User\n",
      "\n",
      "#\u00a0data_sample=\"/home/clemsos/Dev/mitras/data/datazip/others/userdata.csv\"\n",
      "userdata_file=\"/home/clemsos/Dev/mitras/lib/cities/usersample.csv\"\n",
      "# number of lines :\u00a014,388,386 users\n",
      "\n",
      "with open(userdata_file, 'rb') as csvfile:\n",
      "    \n",
      "    user_data=csv.reader(csvfile)\n",
      "    csvfile.next() #skip csv header\n",
      "    \n",
      "    for row in user_data:\n",
      "        # create Tweet object\n",
      "        u=User()\n",
      "            \n",
      "        # print row[0],row[1],row[2],row[3]\n",
      "        u.uid=row[0]\n",
      "        u.province=provinces[row[1]]\n",
      "        u.gender=row[2]\n",
      "        u.verified=row[3]\n",
      "        \n",
      "        u.save() # store to mongo\n"
     ],
     "language": "python",
     "metadata": {},
     "outputs": [
      {
       "output_type": "stream",
       "stream": "stdout",
       "text": [
        "\n",
        "Connecting to MongoDB... \n",
        "Connected successfully MongoDB at localhost:27017\n",
        "\n"
       ]
      }
     ],
     "prompt_number": 22
    },
    {
     "cell_type": "heading",
     "level": 3,
     "metadata": {},
     "source": [
      "Fetch users from Mongo DB"
     ]
    },
    {
     "cell_type": "code",
     "collapsed": false,
     "input": [
      "from lib.mongo import MongoDB\n",
      "\n",
      "# Connect to Mongo\n",
      "db=MongoDB(\"tweets\").db[\"weibousers\"]\n",
      "\n",
      "print \"Total users in the db : %d\"%db.count()\n",
      "\n",
      "def get_user(_uid):\n",
      "    user=db.find_one({\"uid\":_uid}) #.limit(c)\n",
      "    return user\n",
      "\n",
      "def get_province(_uid):\n",
      "    user=db.find_one({\"uid\":_uid}) #.limit(c)\n",
      "    return user[\"province\"]\n",
      "\n",
      "result = get_province(\"uHRWEYSX0\")\n",
      "print result"
     ],
     "language": "python",
     "metadata": {},
     "outputs": [
      {
       "output_type": "stream",
       "stream": "stdout",
       "text": [
        "\n",
        "Connecting to MongoDB... \n",
        "Connected successfully MongoDB at localhost:27017\n",
        "\n",
        "Total users in the db : 198\n",
        "Gu\u01cengd\u014dng \u5e7f\u4e1c\n"
       ]
      }
     ],
     "prompt_number": 29
    },
    {
     "cell_type": "heading",
     "level": 2,
     "metadata": {},
     "source": [
      "Use API to fetch users"
     ]
    }
   ],
   "metadata": {}
  }
 ]
}