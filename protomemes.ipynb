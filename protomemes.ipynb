{
 "metadata": {
  "name": ""
 },
 "nbformat": 3,
 "nbformat_minor": 0,
 "worksheets": [
  {
   "cells": [
    {
     "cell_type": "heading",
     "level": 1,
     "metadata": {},
     "source": [
      "Collect relevant tweets using protomemes"
     ]
    },
    {
     "cell_type": "markdown",
     "metadata": {},
     "source": [
      "We use an algorithm iplementing the concept of protomemes to discover similar tweets based on. "
     ]
    },
    {
     "cell_type": "code",
     "collapsed": false,
     "input": [],
     "language": "python",
     "metadata": {},
     "outputs": []
    }
   ],
   "metadata": {}
  }
 ]
}